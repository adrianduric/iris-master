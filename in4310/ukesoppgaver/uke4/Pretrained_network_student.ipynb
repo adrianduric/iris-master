{
  "nbformat": 4,
  "nbformat_minor": 0,
  "metadata": {
    "colab": {
      "provenance": []
    },
    "kernelspec": {
      "name": "python3",
      "display_name": "Python 3"
    },
    "language_info": {
      "name": "python"
    }
  },
  "cells": [
    {
      "cell_type": "code",
      "execution_count": null,
      "metadata": {
        "id": "Gr5pWTruS-mC"
      },
      "outputs": [],
      "source": [
        "import torch\n",
        "import os\n",
        "import matplotlib.pyplot as plt\n",
        "from torch.utils.data import Dataset, DataLoader\n",
        "from torchvision import transforms\n",
        "from PIL import Image\n",
        "from getimagenetclasses import parseclasslabel, parsesynsetwords, get_classes\n",
        "# Try other models https://pytorch.org/vision/stable/models.html\n",
        "from torchvision.models import resnet18"
      ]
    },
    {
      "cell_type": "code",
      "source": [
        "class ImageNet2500(Dataset):\n",
        "    def __init__(self, root_dir, xmllabeldir, synsetfile, images_dir, transform=None):\n",
        "\n",
        "        \"\"\"\n",
        "    Args:\n",
        "\n",
        "        root_dir (string): Directory with all the images.\n",
        "        transform (callable, optional): Optional transform to be applied\n",
        "            on a sample.\n",
        "    \"\"\"\n",
        "\n",
        "        self.root_dir = root_dir\n",
        "        self.xmllabeldir = root_dir + xmllabeldir\n",
        "        self.images_dir = root_dir + images_dir\n",
        "        self.transform = transform\n",
        "        self.imgfilenames = []\n",
        "        self.labels = []\n",
        "        self.ending = \".JPEG\"\n",
        "\n",
        "        indicestosynsets, self.synsetstoindices, synsetstoclassdescr = parsesynsetwords(root_dir + synsetfile)\n",
        "\n",
        "        for file in os.listdir(self.images_dir):\n",
        "            if file.endswith(\".JPEG\"):\n",
        "                name = os.path.join(images_dir, file)\n",
        "                self.imgfilenames.append(name)\n",
        "                label, _ = parseclasslabel(self.filenametoxml(name), self.synsetstoindices)\n",
        "                self.labels.append(label)\n",
        "\n",
        "    def filenametoxml(self, fn):\n",
        "        f = os.path.basename(fn)\n",
        "\n",
        "        if not f.endswith(self.ending):\n",
        "            print('not f.endswith(self.ending)')\n",
        "            exit()\n",
        "\n",
        "        f = f[:-len(self.ending)] + '.xml'\n",
        "        f = os.path.join(self.xmllabeldir, f)\n",
        "\n",
        "        return f\n",
        "\n",
        "    def __len__(self):\n",
        "        # todo: return the number of samples in the dataset\n",
        "        pass\n",
        "\n",
        "    def __getitem__(self, idx):\n",
        "        #  todo: load the image of index idx, transform it using the appropriate transforms and return it along with its\n",
        "        #  label\n",
        "        pass\n"
      ],
      "metadata": {
        "id": "3dYBjdkSTX-I"
      },
      "execution_count": null,
      "outputs": []
    },
    {
      "cell_type": "code",
      "source": [
        "def run_model(model, dataloader):\n",
        "    pred = torch.Tensor()\n",
        "    lbls = torch.Tensor()\n",
        "\n",
        "    for batch_idx, data in enumerate(dataloader):\n",
        "        #  todo: iterate over the dataloader, and return the predictions and labels of the loaded images\n",
        "        #  across all batches\n",
        "        pass\n",
        "\n",
        "    return pred, lbls\n"
      ],
      "metadata": {
        "id": "6SnQSkUSTaop"
      },
      "execution_count": null,
      "outputs": []
    },
    {
      "cell_type": "code",
      "source": [
        "def plot_example(indx, model, dataset):\n",
        "    sample = dataset[indx]\n",
        "    plt.imshow(sample[\"image\"].permute(1, 2, 0))\n",
        "    plt.show()\n",
        "    # im = transforms.ToPILImage()(sample[\"image\"])\n",
        "    # im.show()\n",
        "    prediction = model(sample[\"image\"].unsqueeze(0)).detach().numpy()[0]\n",
        "    ind = prediction.argsort()[-5:][::-1]\n",
        "    print(\"Top-5 predicted levels:\\n\")\n",
        "    for key in ind:\n",
        "        print(get_classes().get(key))\n",
        "\n",
        "    print(\"\\nTrue label \", get_classes()[sample[\"label\"]])\n"
      ],
      "metadata": {
        "id": "1_IpmVGbTewk"
      },
      "execution_count": null,
      "outputs": []
    },
    {
      "cell_type": "code",
      "source": [
        "def compare_performance(model, loader_wo_normalize, loader_w_normalize):\n",
        "    # predictions and labels from dataset without normalization\n",
        "    preds, labels = run_model(model, loader_wo_normalize)\n",
        "    # predictions and labels from dataset with normalization (labels are the same as before)\n",
        "    preds_norm, _ = run_model(model, loader_w_normalize)\n",
        "\n",
        "    #  todo: calculate the accuracy when using normalized data and when using un-normalized data\n",
        "    acc = None\n",
        "    acc_norm = None\n",
        "\n",
        "    print(\"Accuracy without normalize: \", acc)\n",
        "    print(\"Accuracy with normalize: \", acc_norm)\n"
      ],
      "metadata": {
        "id": "rkNUH-e7ThqD"
      },
      "execution_count": null,
      "outputs": []
    },
    {
      "cell_type": "code",
      "source": [
        "main_path = \"/path/to/your/solution/\"\n",
        "# These files/folders should be inside the main_path directory, i.e.\n",
        "# ../solution /\n",
        "# ├── ILSVRC2012_bbox_val_v3 /\n",
        "# │   └── val /\n",
        "# ├── imagenet2500 /\n",
        "# │   └── imagespart /\n",
        "# ├── getimagenetclasses.py\n",
        "# └── synset_words.txt\n",
        "\n",
        "xmllabeldir = \"/ILSVRC2012_bbox_val_v3/val/\"\n",
        "synsetfile = '/synset_words.txt'\n",
        "images_dir = \"imagenet2500/imagespart\"\n",
        "\n",
        "#  https://pytorch.org/vision/main/generated/torchvision.transforms.Compose.html\n",
        "base_transform = transforms.Compose([\n",
        "    #  use the appropriate transforms\n",
        "])\n",
        "\n",
        "normalize_transform = transforms.Compose([\n",
        "    #  use the appropriate transforms in addition to normalization\n",
        "    #  use these statistics for normalization:\n",
        "    #  mean: [0.485, 0.456, 0.406], std_dev: [0.229, 0.224, 0.225]\n",
        "])\n",
        "\n",
        "#  todo: create a dataset and a dataloader without the normalization\n",
        "dataset_wo_normalize = None\n",
        "loader_wo_normalize = None\n",
        "\n",
        "#  todo: create a dataset and a dataloader **with** normalization\n",
        "dataset_w_normalize = None\n",
        "loader_w_normalize = None\n"
      ],
      "metadata": {
        "id": "2SyDBTd2Tju3"
      },
      "execution_count": null,
      "outputs": []
    },
    {
      "cell_type": "code",
      "source": [
        "# load a pretrained model of choice (see models in torchvision.models)\n",
        "model = None\n",
        "# Set model to eval mode to use the learned-statistics instead of batch-statistics for batch_norm, and skip\n",
        "# training-only operations like dropout. Try removing this line and see how the model performs!\n",
        "model.eval()"
      ],
      "metadata": {
        "id": "_br_-k6sTpby"
      },
      "execution_count": null,
      "outputs": []
    },
    {
      "cell_type": "code",
      "source": [
        "compare_performance(model, loader_wo_normalize, loader_w_normalize)\n",
        "# change the index to check other examples\n",
        "plot_example(6, model, dataset_wo_normalize)"
      ],
      "metadata": {
        "id": "UIBEzAkaTq0b"
      },
      "execution_count": null,
      "outputs": []
    }
  ]
}